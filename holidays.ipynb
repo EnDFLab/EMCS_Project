{
  "nbformat": 4,
  "nbformat_minor": 0,
  "metadata": {
    "colab": {
      "provenance": [],
      "mount_file_id": "1_0LQpf9KUMVZHBl8_SIui99RRuqi5usZ",
      "authorship_tag": "ABX9TyMFFBWw532M9FgjXPsYAy2l",
      "include_colab_link": true
    },
    "kernelspec": {
      "name": "python3",
      "display_name": "Python 3"
    },
    "language_info": {
      "name": "python"
    }
  },
  "cells": [
    {
      "cell_type": "markdown",
      "metadata": {
        "id": "view-in-github",
        "colab_type": "text"
      },
      "source": [
        "<a href=\"https://colab.research.google.com/github/EnDFLab/EMCS_Project/blob/smart_meter_data_analytics/holidays.ipynb\" target=\"_parent\"><img src=\"https://colab.research.google.com/assets/colab-badge.svg\" alt=\"Open In Colab\"/></a>"
      ]
    },
    {
      "cell_type": "code",
      "execution_count": null,
      "metadata": {
        "id": "nHX7qgELDLJp",
        "colab": {
          "base_uri": "https://localhost:8080/"
        },
        "outputId": "942e757e-bcfc-4fb8-bf79-d7b8f4a529bf"
      },
      "outputs": [
        {
          "output_type": "stream",
          "name": "stdout",
          "text": [
            "Requirement already satisfied: nepali-datetime in /usr/local/lib/python3.10/dist-packages (1.0.8.3)\n"
          ]
        }
      ],
      "source": [
        "!pip install nepali-datetime\n",
        "import pandas as pd\n",
        "import numpy as np\n",
        "import datetime\n",
        "import nepali_datetime as ndt\n",
        "\n",
        "#print(ndt.datetime.now())\n",
        "\n",
        "#print(ndt.date.from_datetime_date(datetime.date(1998, 9, 14))) #AD to BS\n",
        "\n",
        "#url = \"https://drive.google.com/uc?export=download&id=1mtUtj8iJTyUSeBrM0DMI1X0zuqS9QidB\"\n"
      ]
    },
    {
      "cell_type": "code",
      "source": [
        "df = pd.read_csv(\"https://drive.google.com/uc?export=download&id=1nAQbt22VEWJV_q4Aa4aaViE9putEiPZl\")\n",
        "df.dtypes\n",
        "df[\"Date\"] = pd.to_datetime(df['Date'])\n",
        "#df.dtypes\n",
        "\n",
        "#print(df.head())\n",
        "#print(df.Date[0])\n",
        "\n",
        "all_dates_2024 = pd.date_range(start=\"2024-01-01\", end=\"2024-12-31\", freq=\"15min\")\n",
        "df.set_index(\"Date\", inplace=True)\n",
        "df = df.reindex(all_dates_2024)\n",
        "df.index.name = \"Date\"\n",
        "df = df.reset_index()\n",
        "\n",
        "#print(df.head(13))\n",
        "#ndt.date.from_datetime_date() expects a datetime.date object so expicityly convert Date into datetime object\n",
        "\n",
        "df[\"nepali_date\"] = df[\"Date\"].apply(lambda x: ndt.date.from_datetime_date(x.date()))\n",
        "\n",
        "date = df.pop('nepali_date')\n",
        "\n",
        "df.insert(1, 'Date (B.S)', date)\n",
        "\n",
        "df[\"Day\"] = df.Date.dt.day\n",
        "day = df.pop(\"Day\")\n",
        "df.insert(2,\"Day\",day)\n",
        "\n",
        "#columns_to_fill = ['SoS', 'SoE']\n",
        "#df[columns_to_fill] = df[columns_to_fill].fillna(0).astype(int)\n",
        "#df[columns_to_fill] = df[columns_to_fill].fillna(0).astype(int)\n",
        "#df[\"both\"] = df[\"SoS\"] & df[\"SoE\"]\n",
        "\n",
        "df['Month'] = df['Date'].dt.month\n",
        "\n",
        "#df = df.dropna()\n",
        "df['Holiday_name'] = df.groupby(['Month','Day'])[['Holiday_name']].transform(lambda x: x.bfill().ffill())\n",
        "df['SoS'] = df.groupby(['Month','Day'])['SoS'].transform(lambda x: x.bfill().ffill())\n",
        "df['SoE'] = df.groupby(['Month','Day'])['SoE'].transform(lambda x: x.bfill().ffill())\n",
        "\n",
        "columns_to_fill = ['SoS', 'SoE']\n",
        "df[columns_to_fill] = df[columns_to_fill].fillna(0).astype(int)\n",
        "df[\"both\"] = df[\"SoS\"] & df[\"SoE\"]\n",
        "\n",
        "df = df.dropna()\n",
        "df.drop(columns=[\"Month\"], inplace=True)\n",
        "\n",
        "df.set_index(\"Date\", inplace=True)\n",
        "df.to_csv(\"Holidays_exported.csv\")\n",
        "\n",
        "print(df.head())\n",
        "\n",
        "\n"
      ],
      "metadata": {
        "colab": {
          "base_uri": "https://localhost:8080/"
        },
        "id": "scrxJcv1G3rx",
        "outputId": "7e89a415-f29c-48e4-c857-a4c9a394a735"
      },
      "execution_count": null,
      "outputs": [
        {
          "output_type": "stream",
          "name": "stderr",
          "text": [
            "<ipython-input-50-2c732bea04fa>:36: FutureWarning: Downcasting object dtype arrays on .fillna, .ffill, .bfill is deprecated and will change in a future version. Call result.infer_objects(copy=False) instead. To opt-in to the future behavior, set `pd.set_option('future.no_silent_downcasting', True)`\n",
            "  df['Holiday_name'] = df.groupby(['Month','Day'])[['Holiday_name']].transform(lambda x: x.bfill().ffill())\n"
          ]
        },
        {
          "output_type": "stream",
          "name": "stdout",
          "text": [
            "                     Date (B.S)  Day     Holiday_name  SoS  SoE  both\n",
            "Date                                                                 \n",
            "2024-01-12 00:00:00  2080-09-27   12  Prithvi Jayanti    1    1     1\n",
            "2024-01-12 00:15:00  2080-09-27   12  Prithvi Jayanti    1    1     1\n",
            "2024-01-12 00:30:00  2080-09-27   12  Prithvi Jayanti    1    1     1\n",
            "2024-01-12 00:45:00  2080-09-27   12  Prithvi Jayanti    1    1     1\n",
            "2024-01-12 01:00:00  2080-09-27   12  Prithvi Jayanti    1    1     1\n"
          ]
        },
        {
          "output_type": "stream",
          "name": "stderr",
          "text": [
            "<ipython-input-50-2c732bea04fa>:45: SettingWithCopyWarning: \n",
            "A value is trying to be set on a copy of a slice from a DataFrame\n",
            "\n",
            "See the caveats in the documentation: https://pandas.pydata.org/pandas-docs/stable/user_guide/indexing.html#returning-a-view-versus-a-copy\n",
            "  df.drop(columns=[\"Month\"], inplace=True)\n"
          ]
        }
      ]
    },
    {
      "cell_type": "code",
      "source": [],
      "metadata": {
        "id": "s20ANhIRtnu0"
      },
      "execution_count": null,
      "outputs": []
    }
  ]
}