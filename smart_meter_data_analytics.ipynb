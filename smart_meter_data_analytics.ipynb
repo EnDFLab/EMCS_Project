{
  "nbformat": 4,
  "nbformat_minor": 0,
  "metadata": {
    "colab": {
      "provenance": [],
      "authorship_tag": "ABX9TyPABwU3yeqqCMTgkeS6ate3",
      "include_colab_link": true
    },
    "kernelspec": {
      "name": "python3",
      "display_name": "Python 3"
    },
    "language_info": {
      "name": "python"
    }
  },
  "cells": [
    {
      "cell_type": "markdown",
      "metadata": {
        "id": "view-in-github",
        "colab_type": "text"
      },
      "source": [
        "<a href=\"https://colab.research.google.com/github/EnDFLab/EMCS_Project/blob/smart_meter_data_analytics/smart_meter_data_analytics.ipynb\" target=\"_parent\"><img src=\"https://colab.research.google.com/assets/colab-badge.svg\" alt=\"Open In Colab\"/></a>"
      ]
    },
    {
      "cell_type": "code",
      "execution_count": 1,
      "metadata": {
        "id": "bKsOqie-jXDg"
      },
      "outputs": [],
      "source": [
        "import pandas as pd\n",
        "import numpy as np"
      ]
    },
    {
      "cell_type": "code",
      "source": [
        "def read_csv(id):\n",
        "  consumer = {\"physics\":\"1DN8M_FNpJ73Zb43nap6910TrStzjIlyF\",\n",
        "              \"management\":\"1DcuVrXwOICXyI_KtcYxp2WWEtsVn7m6x\",\n",
        "              \"electrical\":\"1DnhLgBQ8YSqDmI7rA8nplQEAyOWH_oiO\",\n",
        "              \"civil\":\"1DaW-MB6cVM8jm5MPTg8br6pxJdqIEsEQ\",\n",
        "              \"boyshostel\":\"1DsGE4NfgtfM8CvPQ-Vvh5EjW2MMo1YXW\",\n",
        "              \"biotech\":\"1D_Bb5EJHCejxnhzdhEqc6geRXxWtGr4_\",\n",
        "              \"transformer\":\"1DynnA5YDAH9xJq7KIhIc4fSzrvH_y_22\"\n",
        "              }\n",
        "\n",
        "  Url = \"https://drive.google.com/uc?export=download&id=\" + consumer[id]\n",
        "\n",
        "  df = pd.read_csv(Url,skiprows = 1)\n",
        "  print(df)\n",
        "  return df\n"
      ],
      "metadata": {
        "id": "bMgat5V5jk6U"
      },
      "execution_count": 2,
      "outputs": []
    },
    {
      "cell_type": "code",
      "source": [
        " # Convert 'Last Updated' column to datetime format and add timezone information\n",
        "def format_csv(df):\n",
        "    df['Last Updated'] = pd.to_datetime(df['Last Updated'])\n",
        "    df['Last Updated'] = df['Last Updated'].dt.strftime('%Y-%m-%d %H:%M:%S') + '+00:00'\n",
        "    df = df.set_index('Last Updated')\n",
        "    return df"
      ],
      "metadata": {
        "id": "_1iH1mQ1y-kd"
      },
      "execution_count": 3,
      "outputs": []
    },
    {
      "cell_type": "code",
      "source": [
        "#export the formated data to csv\n",
        "def export_formated_csv(df,id):\n",
        "  df = df.drop(columns=['Voltage(V)', 'Current(A)', 'PF', 'Exported Energy(kWh)'])\n",
        "  df['Grid Consumption(kWh)'] = pd.to_numeric(df['Grid Consumption(kWh)'], errors='coerce')\n",
        "  df = df.pivot_table(index='Last Updated', values='Grid Consumption(kWh)', aggfunc='sum')\n",
        "  df['Grid Consumption(kWh)'] = df['Grid Consumption(kWh)'] - df['Grid Consumption(kWh)'].shift(1)\n",
        "  df = df.round(decimals=4)\n",
        "  df.to_csv(id + '_sorted.csv')\n",
        "  print(\"Exported Sucessfully\")\n",
        "  return\n"
      ],
      "metadata": {
        "id": "qN4_O4dzy59v"
      },
      "execution_count": 4,
      "outputs": []
    },
    {
      "cell_type": "code",
      "source": [
        "#Cretating Tuple of \"physics\" \"management\" \"electrical\" \"civil\" \"boyshostel\" \"biotech\" \"transformer\"\n",
        "\n",
        "consumer_id = {\"physics\", \"management\", \"electrical\", \"civil\", \"boyshostel\", \"biotech\", \"transformer\"}\n",
        "for id in consumer_id:\n",
        " df = read_csv(id)\n",
        " df = format_csv(df)\n",
        " export_formated_csv(df,id)\n",
        "\n"
      ],
      "metadata": {
        "colab": {
          "base_uri": "https://localhost:8080/"
        },
        "id": "I_lP4CK2jg69",
        "outputId": "ae73bc57-1c75-4d7e-ed0d-e3272e33a6c8"
      },
      "execution_count": 5,
      "outputs": [
        {
          "output_type": "stream",
          "name": "stderr",
          "text": [
            "<ipython-input-2-7af76930fb20>:13: DtypeWarning: Columns (4,6) have mixed types. Specify dtype option on import or set low_memory=False.\n",
            "  df = pd.read_csv(Url,skiprows = 1)\n"
          ]
        },
        {
          "output_type": "stream",
          "name": "stdout",
          "text": [
            "              Last Updated      Meter  Voltage(V)  Current(A) Power(W)    PF  \\\n",
            "0        2024/1/7 12:00:26  Physics_a       238.6        0.58       72  0.52   \n",
            "1        2024/1/7 12:05:19  Physics_a       233.0        0.49       66  0.58   \n",
            "2        2024/1/7 12:11:36  Physics_a       234.1        3.21     -300 -0.40   \n",
            "3        2024/1/7 12:16:39  Physics_a       232.8        1.32      132  0.43   \n",
            "4        2024/1/7 12:20:33  Physics_a       232.6        1.28      130  0.44   \n",
            "...                    ...        ...         ...         ...      ...   ...   \n",
            "407457  2024/12/22 8:59:37  Physics_c       220.5        0.07        9  0.58   \n",
            "407458  2024/12/22 9:00:36  Physics_c       221.4        0.07        9  0.58   \n",
            "407459  2024/12/22 9:01:34  Physics_c       220.5        0.07        9  0.58   \n",
            "407460  2024/12/22 9:02:33  Physics_c       218.5        0.07        9  0.59   \n",
            "407461  2024/12/22 9:03:32  Physics_c       219.0        0.07        9  0.59   \n",
            "\n",
            "       Grid Consumption(kWh)  Exported Energy(kWh)  \n",
            "0                      5.671                 0.000  \n",
            "1                      5.677                 0.000  \n",
            "2                      5.681                 0.003  \n",
            "3                      5.685                 0.008  \n",
            "4                      5.693                 0.008  \n",
            "...                      ...                   ...  \n",
            "407457             2,191.436                 2.692  \n",
            "407458             2,191.437                 2.692  \n",
            "407459             2,191.437                 2.692  \n",
            "407460             2,191.437                 2.692  \n",
            "407461             2,191.437                 2.692  \n",
            "\n",
            "[407462 rows x 8 columns]\n",
            "Exported Sucessfully\n",
            "             Last Updated       Meter  Voltage(V)  Current(A) Power(W)    PF  \\\n",
            "0       2024/1/4 15:50:06  Bio-Tech_a       238.5        0.95      207  0.91   \n",
            "1       2024/1/4 15:55:57  Bio-Tech_a       236.8        1.50      338  0.95   \n",
            "2       2024/1/4 16:00:50  Bio-Tech_a       236.3        1.60      298  0.79   \n",
            "3       2024/1/4 16:05:45  Bio-Tech_a       235.6        4.74      671  0.60   \n",
            "4       2024/1/4 16:10:36  Bio-Tech_a       235.0        3.14      539  0.73   \n",
            "...                   ...         ...         ...         ...      ...   ...   \n",
            "317861  2024/11/8 7:31:45  Bio-Tech_c       241.8        0.54       87  0.67   \n",
            "317862  2024/11/8 7:32:44  Bio-Tech_c       240.1        0.55       87  0.66   \n",
            "317863  2024/11/8 7:33:42  Bio-Tech_c       243.6        0.55       88  0.66   \n",
            "317864  2024/11/8 7:34:41  Bio-Tech_c       243.4        0.55       88  0.66   \n",
            "317865  2024/11/8 7:35:39  Bio-Tech_c       241.2        0.55       87  0.66   \n",
            "\n",
            "       Grid Consumption(kWh)  Exported Energy(kWh)  \n",
            "0                      0.205                     0  \n",
            "1                      0.242                     0  \n",
            "2                      0.286                     0  \n",
            "3                       0.34                     0  \n",
            "4                      0.388                     0  \n",
            "...                      ...                   ...  \n",
            "317861             1,352.242                     0  \n",
            "317862             1,352.243                     0  \n",
            "317863             1,352.245                     0  \n",
            "317864             1,352.247                     0  \n",
            "317865             1,352.248                     0  \n",
            "\n",
            "[317866 rows x 8 columns]\n",
            "Exported Sucessfully\n"
          ]
        },
        {
          "output_type": "stream",
          "name": "stderr",
          "text": [
            "<ipython-input-2-7af76930fb20>:13: DtypeWarning: Columns (6) have mixed types. Specify dtype option on import or set low_memory=False.\n",
            "  df = pd.read_csv(Url,skiprows = 1)\n"
          ]
        },
        {
          "output_type": "stream",
          "name": "stdout",
          "text": [
            "               Last Updated          Meter  Voltage(V)  Current(A) Power(W)  \\\n",
            "0        2024/9/26 12:18:49  Boys_Hostel_a       227.4        1.30      252   \n",
            "1        2024/9/26 12:20:46  Boys_Hostel_a       229.0        1.39      270   \n",
            "2        2024/9/26 12:25:40  Boys_Hostel_a       227.9        1.40      270   \n",
            "3        2024/9/26 12:30:33  Boys_Hostel_a       227.2        1.37      264   \n",
            "4        2024/9/26 12:35:25  Boys_Hostel_a       224.8        1.29      245   \n",
            "...                     ...            ...         ...         ...      ...   \n",
            "209844  2024/12/22 10:02:44  Boys_Hostel_c       222.3       14.05    3,111   \n",
            "209845  2024/12/22 10:03:43  Boys_Hostel_c       222.8       14.02    3,110   \n",
            "209846  2024/12/22 10:04:42  Boys_Hostel_c       218.3       13.86    3,012   \n",
            "209847  2024/12/22 10:05:40  Boys_Hostel_c       212.3       13.59    2,872   \n",
            "209848  2024/12/22 10:06:39  Boys_Hostel_c       211.0       13.49    2,837   \n",
            "\n",
            "          PF Grid Consumption(kWh)  Exported Energy(kWh)  \n",
            "0       0.85                 9.481                     0  \n",
            "1       0.85                 9.488                     0  \n",
            "2       0.85                 9.511                     0  \n",
            "3       0.85                 9.531                     0  \n",
            "4       0.84                 9.552                     0  \n",
            "...      ...                   ...                   ...  \n",
            "209844  1.00             1,251.492                     0  \n",
            "209845  1.00             1,251.543                     0  \n",
            "209846  1.00             1,251.593                     0  \n",
            "209847  1.00             1,251.641                     0  \n",
            "209848  1.00             1,251.687                     0  \n",
            "\n",
            "[209849 rows x 8 columns]\n",
            "Exported Sucessfully\n"
          ]
        },
        {
          "output_type": "stream",
          "name": "stderr",
          "text": [
            "<ipython-input-2-7af76930fb20>:13: DtypeWarning: Columns (6) have mixed types. Specify dtype option on import or set low_memory=False.\n",
            "  df = pd.read_csv(Url,skiprows = 1)\n"
          ]
        },
        {
          "output_type": "stream",
          "name": "stdout",
          "text": [
            "               Last Updated    Meter  Voltage(V)  Current(A) Power(W)    PF  \\\n",
            "0        2024/1/11 10:13:43  Civil_a       232.0        5.69      621  0.47   \n",
            "1        2024/1/11 10:15:37  Civil_a       233.2        5.60      622  0.48   \n",
            "2        2024/1/11 10:21:33  Civil_a       232.6        7.90      869  0.47   \n",
            "3        2024/1/11 10:25:23  Civil_a       233.1        5.43      596  0.47   \n",
            "4        2024/1/11 10:30:16  Civil_a       232.2        5.65      570  0.43   \n",
            "...                     ...      ...         ...         ...      ...   ...   \n",
            "334777  2024/11/26 10:46:48  Civil_c       230.1        5.22      498  0.41   \n",
            "334778  2024/11/26 10:51:40  Civil_c       231.8        5.27      492  0.40   \n",
            "334779  2024/11/26 10:52:37  Civil_c       231.6        5.26      484  0.40   \n",
            "334780  2024/11/26 10:53:34  Civil_c       231.2        5.18      491  0.41   \n",
            "334781  2024/11/26 10:55:37  Civil_c       232.4        8.18      805  0.42   \n",
            "\n",
            "       Grid Consumption(kWh)  Exported Energy(kWh)  \n",
            "0                      5.857                 0.011  \n",
            "1                      5.877                 0.011  \n",
            "2                      5.937                 0.011  \n",
            "3                      5.985                 0.011  \n",
            "4                      6.035                 0.011  \n",
            "...                      ...                   ...  \n",
            "334777               743.798                12.498  \n",
            "334778               743.842                12.498  \n",
            "334779                743.85                12.498  \n",
            "334780                743.86                12.498  \n",
            "334781               743.877                12.498  \n",
            "\n",
            "[334782 rows x 8 columns]\n",
            "Exported Sucessfully\n",
            "               Last Updated         Meter  Voltage(V)  Current(A) Power(W)  \\\n",
            "0        2024/7/24 11:39:11  Electrical_a       227.5        2.34      520   \n",
            "1        2024/7/24 11:40:10  Electrical_a       227.1        2.31      512   \n",
            "2        2024/7/24 11:45:35  Electrical_a       226.9        1.60      346   \n",
            "3        2024/7/24 11:50:27  Electrical_a       228.7        1.58      344   \n",
            "4        2024/7/24 11:55:24  Electrical_a       228.5        1.53      332   \n",
            "...                     ...           ...         ...         ...      ...   \n",
            "147328  2024/12/22 10:02:06  Electrical_c       236.5        4.93    1,074   \n",
            "147329  2024/12/22 10:03:05  Electrical_c       236.8        4.88    1,066   \n",
            "147330  2024/12/22 10:04:03  Electrical_c       236.5        4.91    1,070   \n",
            "147331  2024/12/22 10:05:05  Electrical_c       236.7        4.63    1,028   \n",
            "147332  2024/12/22 10:06:00  Electrical_c       236.8        4.64    1,032   \n",
            "\n",
            "          PF Grid Consumption(kWh)  Exported Energy(kWh)  \n",
            "0       0.98                 1.322                 0.000  \n",
            "1       0.98                 1.331                 0.000  \n",
            "2       0.95                  1.37                 0.000  \n",
            "3       0.95                 1.408                 0.000  \n",
            "4       0.95                 1.437                 0.000  \n",
            "...      ...                   ...                   ...  \n",
            "147328  0.92             1,289.637                 0.033  \n",
            "147329  0.92             1,289.655                 0.033  \n",
            "147330  0.92             1,289.672                 0.033  \n",
            "147331  0.94             1,289.688                 0.033  \n",
            "147332  0.94             1,289.706                 0.033  \n",
            "\n",
            "[147333 rows x 8 columns]\n",
            "Exported Sucessfully\n",
            "               Last Updated               Meter  Voltage(V)  Current(A)  \\\n",
            "0         2024/8/1 14:34:24  Main_Transformer_a       223.5      152.93   \n",
            "1         2024/8/1 14:35:22  Main_Transformer_a       223.4      161.30   \n",
            "2         2024/8/1 14:40:17  Main_Transformer_a       223.5      153.51   \n",
            "3         2024/8/1 14:45:08  Main_Transformer_a       222.9      164.43   \n",
            "4         2024/8/1 14:50:01  Main_Transformer_a       224.4      153.35   \n",
            "...                     ...                 ...         ...         ...   \n",
            "244988  2024/12/22 10:03:52  Main_Transformer_c       227.1      238.04   \n",
            "244989  2024/12/22 10:04:50  Main_Transformer_c       226.4      258.17   \n",
            "244990  2024/12/22 10:05:49  Main_Transformer_c       226.2      261.54   \n",
            "244991  2024/12/22 10:06:47  Main_Transformer_c       225.7      282.38   \n",
            "244992  2024/12/22 10:07:46  Main_Transformer_c       226.4      273.20   \n",
            "\n",
            "       Power(W)    PF Grid Consumption(kWh)  Exported Energy(kWh)  \n",
            "0        33,690  0.99                12.823                 0.676  \n",
            "1        35,458  0.98                13.388                 0.676  \n",
            "2        33,680  0.98                16.143                 0.676  \n",
            "3        36,004  0.98                18.863                 0.676  \n",
            "4        33,636  0.98                21.627                 0.676  \n",
            "...         ...   ...                   ...                   ...  \n",
            "244988   53,912  1.00            82,653.048                 0.000  \n",
            "244989   58,266  1.00            82,653.952                 0.000  \n",
            "244990   58,984  1.00            82,654.936                 0.000  \n",
            "244991   63,510  1.00            82,655.936                 0.000  \n",
            "244992   61,710  1.00            82,656.936                 0.000  \n",
            "\n",
            "[244993 rows x 8 columns]\n",
            "Exported Sucessfully\n",
            "               Last Updated         Meter  Voltage(V)  Current(A) Power(W)  \\\n",
            "0         2024/1/5 12:06:39  Management_a       239.5        0.00        0   \n",
            "1         2024/1/10 9:37:42  Management_a       231.8        7.22    1,578   \n",
            "2         2024/1/10 9:40:40  Management_a       233.2        7.61    1,652   \n",
            "3         2024/1/10 9:45:34  Management_a       235.5        4.72      932   \n",
            "4         2024/1/10 9:50:29  Management_a       233.9        4.78      944   \n",
            "...                     ...           ...         ...         ...      ...   \n",
            "327241  2024/12/22 10:02:01  Management_c       230.0        2.99      578   \n",
            "327242  2024/12/22 10:03:00  Management_c       229.6        2.98      574   \n",
            "327243  2024/12/22 10:04:00  Management_c       228.1        2.97      566   \n",
            "327244  2024/12/22 10:04:59  Management_c       225.9        3.02      568   \n",
            "327245  2024/12/22 10:05:58  Management_c       226.1        3.03      570   \n",
            "\n",
            "          PF Grid Consumption(kWh)  Exported Energy(kWh)  \n",
            "0       0.00                     0                  0.00  \n",
            "1       0.94                 21.48                  0.01  \n",
            "2       0.93                 21.56                  0.01  \n",
            "3       0.84                 21.66                  0.01  \n",
            "4       0.84                 21.73                  0.01  \n",
            "...      ...                   ...                   ...  \n",
            "327241  0.84             10,396.67                  0.22  \n",
            "327242  0.84             10,396.68                  0.22  \n",
            "327243  0.84             10,396.69                  0.22  \n",
            "327244  0.83              10,396.7                  0.22  \n",
            "327245  0.83             10,396.71                  0.22  \n",
            "\n",
            "[327246 rows x 8 columns]\n",
            "Exported Sucessfully\n"
          ]
        }
      ]
    },
    {
      "cell_type": "code",
      "source": [
        "def calculate_daily_consumption(df, time_column='Last Updated', value_column='Grid Consumption(kWh)'):\n",
        "    \"\"\"\n",
        "    Calculate daily consumption from a DataFrame.\n",
        "\n",
        "    Parameters:\n",
        "    df (pd.DataFrame): Input DataFrame with timestamp and consumption data.\n",
        "    time_column (str): Column name containing timestamps.\n",
        "    value_column (str): Column name containing consumption values.\n",
        "\n",
        "    Returns:\n",
        "    pd.DataFrame: DataFrame with daily summed values.\n",
        "    \"\"\"\n",
        "    # Ensure the time_column is in datetime format\n",
        "    df[time_column] = pd.to_datetime(df[time_column])\n",
        "\n",
        "    # Set the time_column as the index\n",
        "    df.set_index(time_column, inplace=True)\n",
        "\n",
        "    # Group by date and sum the values in the value_column\n",
        "    daily_consumption = df.groupby(pd.Grouper(freq='D'))[value_column].sum()\n",
        "\n",
        "    return daily_consumption.reset_index()"
      ],
      "metadata": {
        "id": "X3Z3t8tlI_i3"
      },
      "execution_count": 6,
      "outputs": []
    },
    {
      "cell_type": "code",
      "source": [
        "\n",
        "df = pd.read_csv(\"biotech_sorted.csv\")\n",
        "daily_data = calculate_daily_consumption(df)\n",
        "print(daily_data)\n",
        "\n",
        "\n",
        "\n",
        "\n"
      ],
      "metadata": {
        "colab": {
          "base_uri": "https://localhost:8080/"
        },
        "id": "57XzdckXG8uB",
        "outputId": "4061fe02-6374-46b0-ba6b-3504e81f6b3c"
      },
      "execution_count": 7,
      "outputs": [
        {
          "output_type": "stream",
          "name": "stdout",
          "text": [
            "                 Last Updated  Grid Consumption(kWh)\n",
            "0   2024-01-04 00:00:00+00:00                  7.857\n",
            "1   2024-01-05 00:00:00+00:00                 31.606\n",
            "2   2024-01-06 00:00:00+00:00                 18.551\n",
            "3   2024-01-07 00:00:00+00:00                 27.325\n",
            "4   2024-01-08 00:00:00+00:00                 22.879\n",
            "..                        ...                    ...\n",
            "305 2024-11-04 00:00:00+00:00                  0.000\n",
            "306 2024-11-05 00:00:00+00:00                  0.000\n",
            "307 2024-11-06 00:00:00+00:00                  0.000\n",
            "308 2024-11-07 00:00:00+00:00                  0.000\n",
            "309 2024-11-08 00:00:00+00:00                  0.000\n",
            "\n",
            "[310 rows x 2 columns]\n"
          ]
        }
      ]
    },
    {
      "cell_type": "code",
      "source": [
        "def plot_data(df,column=\"Grid Consumption(kWh)\"):\n",
        "  %matplotlib inline\n",
        "  import matplotlib.pyplot as plt\n",
        "  fig = plt.figure()\n",
        "  ax = fig.add_subplot(1, 1, 1)\n",
        "  ax.plot(df[column],color=\"black\")\n",
        "  plt.show()\n",
        "\n",
        "  return\n",
        "\n",
        "plot_data(daily_data, column=\"Grid Consumption(kWh)\")\n",
        "\n"
      ],
      "metadata": {
        "colab": {
          "base_uri": "https://localhost:8080/",
          "height": 430
        },
        "id": "DVoyPQRjXted",
        "outputId": "79e80683-9539-495a-bb15-d17bbaf3b49e"
      },
      "execution_count": 13,
      "outputs": [
        {
          "output_type": "display_data",
          "data": {
            "text/plain": [
              "<Figure size 640x480 with 1 Axes>"
            ],
            "image/png": "[encoded data removed]"
          },
          "metadata": {}
        }
      ]
    },
    {
      "cell_type": "code",
      "source": [],
      "metadata": {
        "id": "ZORMdJDkb3_w"
      },
      "execution_count": 8,
      "outputs": []
    }
  ]
}