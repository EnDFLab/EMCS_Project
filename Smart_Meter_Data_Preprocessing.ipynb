{
  "cells": [
    {
      "cell_type": "markdown",
      "metadata": {
        "id": "view-in-github",
        "colab_type": "text"
      },
      "source": [
        "<a href=\"https://colab.research.google.com/github/EnDFLab/EMCS_Project/blob/smart_meter_data_analytics/Smart_Meter_Data_Preprocessing.ipynb\" target=\"_parent\"><img src=\"https://colab.research.google.com/assets/colab-badge.svg\" alt=\"Open In Colab\"/></a>"
      ]
    },
    {
      "cell_type": "markdown",
      "metadata": {
        "id": "qiurdCiXqNhk"
      },
      "source": [
        "**Importing Required Packages**"
      ]
    },
    {
      "cell_type": "code",
      "execution_count": 30,
      "metadata": {
        "id": "AkQo1GVXqFiY"
      },
      "outputs": [],
      "source": [
        "import numpy as np\n",
        "import pandas as pd\n",
        "import matplotlib.pyplot as plt\n",
        "import pytz"
      ]
    },
    {
      "cell_type": "markdown",
      "metadata": {
        "id": "E56kkoGSRR46"
      },
      "source": [
        "**Creating a Dictionary for Consumers name**"
      ]
    },
    {
      "cell_type": "code",
      "execution_count": 31,
      "metadata": {
        "id": "2dc9cT9sRO3G"
      },
      "outputs": [],
      "source": [
        "consumer = {\"physics\":\"1DN8M_FNpJ73Zb43nap6910TrStzjIlyF\",\n",
        "              \"management\":\"1DcuVrXwOICXyI_KtcYxp2WWEtsVn7m6x\",\n",
        "              \"electrical\":\"1DnhLgBQ8YSqDmI7rA8nplQEAyOWH_oiO\",\n",
        "              \"civil\":\"1DaW-MB6cVM8jm5MPTg8br6pxJdqIEsEQ\",\n",
        "              \"boyshostel\":\"1DsGE4NfgtfM8CvPQ-Vvh5EjW2MMo1YXW\",\n",
        "              \"biotech\":\"1D_Bb5EJHCejxnhzdhEqc6geRXxWtGr4_\",\n",
        "              \"transformer\":\"1DynnA5YDAH9xJq7KIhIc4fSzrvH_y_22\"\n",
        "              }"
      ]
    },
    {
      "cell_type": "markdown",
      "metadata": {
        "id": "nCuUEKTA0we1"
      },
      "source": [
        "**Function to create a df from a csv file and remove unwanted rows, column.**"
      ]
    },
    {
      "cell_type": "code",
      "execution_count": 32,
      "metadata": {
        "id": "4AWLvdNXvRNS"
      },
      "outputs": [],
      "source": [
        "def read_raw_csv(id):\n",
        "  if id in consumer.keys():\n",
        "    Url = \"https://drive.google.com/uc?export=download&id=\" + consumer[id]\n",
        "    df = pd.read_csv(Url,skiprows =1)\n",
        "    df.columns = df.columns.str.strip() # Remove Leading and Trailing Whitespaces from Column\n",
        "    df.set_index(\"Last Updated\",inplace = True);\n",
        "    df.drop(labels=[\"Voltage(V)\",\"Current(A)\",\"Power(W)\",\"PF\",\"Exported Energy(kWh)\"],axis=1,inplace=True)\n",
        "    return(df)\n",
        "  else:\n",
        "    return(None)"
      ]
    },
    {
      "cell_type": "markdown",
      "metadata": {
        "id": "x1p9ymNmG72A"
      },
      "source": [
        "\n",
        "**Functions for Data Preprocessing**"
      ]
    },
    {
      "cell_type": "code",
      "execution_count": 33,
      "metadata": {
        "id": "XZBiShjjeuow"
      },
      "outputs": [],
      "source": [
        "def data_preprocessing(df):\n",
        "      df = replace_comma(df)\n",
        "      #df.to_csv(\"/content/drive/MyDrive/sorted_data/\" + \"physics_comma_replaced.csv\",float_format='%.2f');\n",
        "      df = df_total(df)\n",
        "      #df.to_csv(\"/content/drive/MyDrive/sorted_data/\" + \"physics_time_stamp_added.csv\",float_format='%.2f');\n",
        "      df = fill_missing_timestamp(df)\n",
        "      #df.to_csv(\"/content/drive/MyDrive/sorted_data/\" + \"physics_added_time_stamp_added.csv\",float_format='%.2f');\n",
        "      df = fill_missing_value(df)\n",
        "      #df.to_csv(\"/content/drive/MyDrive/sorted_data/\" + \"physics_added_missing_value_added.csv\",float_format='%.2f');\n",
        "      df = calculate_consumption(df)\n",
        "      #df.to_csv(\"/content/drive/MyDrive/sorted_data/\" + \"physics_consumption.csv\",float_format='%.2f');\n",
        "      return df"
      ]
    },
    {
      "cell_type": "markdown",
      "metadata": {
        "id": "tTSp0tRUt8LY"
      },
      "source": [
        "**Function to Calculate Actual Energy Consumption from unit consumed**"
      ]
    },
    {
      "cell_type": "code",
      "execution_count": 34,
      "metadata": {
        "id": "3YOLybc5t7zo"
      },
      "outputs": [],
      "source": [
        "def calculate_consumption(df):\n",
        "  df[\"Load_consumed (kWh)\"] = df[\"Load_consumed (kWh)\"] - df[\"Load_consumed (kWh)\"].shift(1)\n",
        "  df.drop(index=df.index[0],axis=0,inplace=True)\n",
        "  return df"
      ]
    },
    {
      "cell_type": "markdown",
      "metadata": {
        "id": "BY_7KSdbHWRa"
      },
      "source": [
        "**Function to fill missing values of energy consumption**"
      ]
    },
    {
      "cell_type": "code",
      "execution_count": 35,
      "metadata": {
        "id": "tAkB0DBPHU-D"
      },
      "outputs": [],
      "source": [
        "def fill_missing_value(df):\n",
        "    \"\"\"\n",
        "    Fill missing values in the 'Load_consumed (kWh)' column using linear interpolation.\n",
        "\n",
        "    Args:\n",
        "        df (pd.DataFrame): Input DataFrame with a 'Load_consumed (kWh)' column.\n",
        "\n",
        "    Returns:\n",
        "        pd.DataFrame: DataFrame with missing values in 'Load_consumed (kWh)' filled.\n",
        "    \"\"\"\n",
        "    # Perform linear interpolation for missing values\n",
        "    df[\"Load_consumed (kWh)\"] = df[\"Load_consumed (kWh)\"].interpolate(method='linear', limit_direction='both')\n",
        "\n",
        "    # Round values to two decimal places\n",
        "    df[\"Load_consumed (kWh)\"] = df[\"Load_consumed (kWh)\"].round(2)\n",
        "\n",
        "    return df"
      ]
    },
    {
      "cell_type": "markdown",
      "metadata": {
        "id": "WRWWK2D3HAAf"
      },
      "source": [
        "**Function to fill missing time stamp**"
      ]
    },
    {
      "cell_type": "code",
      "execution_count": 36,
      "metadata": {
        "id": "VwI5ZHtfDI6j"
      },
      "outputs": [],
      "source": [
        "\n",
        "def fill_missing_timestamp(df):\n",
        "    # Reset index to make 'timestamp' a regular column\n",
        "    df = df.reset_index()\n",
        "    print(df.head())  # Debugging step: Print first few rows\n",
        "\n",
        "    # Round the 'timestamp' to the nearest 15 minutes\n",
        "    df['timestamp'] = pd.to_datetime(df['timestamp']).dt.round(freq='15min')\n",
        "\n",
        "    # Remove duplicate timestamps (keeping the last one)\n",
        "    df = df.loc[~df['timestamp'].duplicated(keep='last')]\n",
        "\n",
        "    # Set 'timestamp' back as the index\n",
        "    df.set_index('timestamp', inplace=True)\n",
        "\n",
        "    # Calculate the start and end timestamps\n",
        "    start = pd.to_datetime(\"2024-01-01\")\n",
        "    end = pd.to_datetime(\"2024-12-31\")\n",
        "\n",
        "    # Generate the desired date range with the specified frequency\n",
        "    dates = pd.date_range(start=start, end=end, freq='15Min')\n",
        "\n",
        "    # Reindex the dataframe to the new date range\n",
        "    df = df.reindex(dates)\n",
        "    df.index.name = 'timestamp'\n",
        "\n",
        "    return df"
      ]
    },
    {
      "cell_type": "markdown",
      "metadata": {
        "id": "i3o76jwOAY7v"
      },
      "source": [
        "**Calculating Load_consumed (kWh) row sum**\n",
        "\n"
      ]
    },
    {
      "cell_type": "code",
      "execution_count": 37,
      "metadata": {
        "id": "JYm-qyHGAXlY"
      },
      "outputs": [],
      "source": [
        "def df_total(df):\n",
        "    #create pivot table\n",
        "    df = pd.pivot_table(data=df,index=[\"Last Updated\"],values=[\"Grid Consumption(kWh)\"],columns=\"Meter\")\n",
        "    df.index = pd.to_datetime(df.index) #need this before sorting index\n",
        "    df = df.sort_index(ascending=True)\n",
        "    df = df.ffill()\n",
        "    df[\"Total\"] = df.sum(axis=1)\n",
        "    df.drop(labels=[\"Grid Consumption(kWh)\"],axis=1,inplace=True)\n",
        "    df.reset_index(inplace=True) #Remove Index Name\n",
        "    df.columns = [None] * len(df.columns) # Remove Column name\n",
        "\n",
        "    df.columns = ['timestamp', 'Load_consumed (kWh)']\n",
        "    df.set_index(\"timestamp\",inplace=True)\n",
        "    df[\"Load_consumed (kWh)\"] = df[\"Load_consumed (kWh)\"].round(2)\n",
        "\n",
        "\n",
        "\n",
        "    #df.index.name = None\n",
        "    #df.set_index(\"Last Updated\",inplace=True)\n",
        "\n",
        "    #df.rename_axis(None,inplace = True)\n",
        "    #df.reset_index(inplace=True)\n",
        "    #df.index.name = \"timestamp\"\n",
        "\n",
        "    #df.drop(index=1, inplace=True) #Removes 2nd row index 1 is second row\n",
        "\n",
        "    return df"
      ]
    },
    {
      "cell_type": "markdown",
      "metadata": {
        "id": "t58ig1K_HI3w"
      },
      "source": [
        "**Function to Remove commas from Grid Consumption Column**"
      ]
    },
    {
      "cell_type": "code",
      "execution_count": 38,
      "metadata": {
        "id": "HXX4ANWNfE0a"
      },
      "outputs": [],
      "source": [
        "#Function to remove the comma from Grid Consumption Column\n",
        "def replace_comma(df):\n",
        "    df[\"Grid Consumption(kWh)\"] = df[\"Grid Consumption(kWh)\"].replace(\",\",\"\",regex = True)\n",
        "    df['Grid Consumption(kWh)'] = pd.to_numeric(df['Grid Consumption(kWh)'], errors='coerce')\n",
        "    print(\"dtype of Grid Consumption(kWh)is:\")\n",
        "    print(df.dtypes)\n",
        "    return(df)"
      ]
    },
    {
      "cell_type": "markdown",
      "source": [
        "```\n",
        "def fetch_weather_data():\n",
        "  weather_df = pd.read_csv(\"https://drive.google.com/uc?export=download&id=1mezuQQr_XKMYOT_X46UoUgbtDmoV_qPj\")\n",
        "  weather_df.drop(labels=[\"period\", \"dni\", \"ghi\"], axis=1, inplace=True)\n",
        "  return weather_df\n",
        "```\n",
        "\n",
        "\n",
        "\n",
        "\n"
      ],
      "metadata": {
        "id": "iKnYVA3pwhPg"
      }
    },
    {
      "cell_type": "markdown",
      "source": [
        "\n",
        "\n",
        "```\n",
        "def add_temperature(df, weather_df):\n",
        "    # Convert 'period_end' in weather_df to datetime and set to Nepali time zone\n",
        "    weather_df[\"period_end\"] = pd.to_datetime(weather_df[\"period_end\"], utc=True).dt.tz_convert(\"Asia/Kathmandu\")\n",
        "\n",
        "    # Remove timezone information\n",
        "    weather_df[\"period_end\"] = weather_df[\"period_end\"].dt.tz_localize(None)\n",
        "\n",
        "    # Set 'period_end' as the index\n",
        "    weather_df.set_index(\"period_end\", inplace=True)\n",
        "\n",
        "    # Ensure 'timestamp' (or equivalent) in df is also datetime\n",
        "    df.index = pd.to_datetime(df.index)\n",
        "\n",
        "    # Resample weather_df to 15-minute intervals\n",
        "    weather_df = weather_df.resample('15T').mean().round(2)\n",
        "\n",
        "    # Outer join to align both DataFrames\n",
        "    merged_df = df.join(weather_df, how='outer')\n",
        "\n",
        "    # Drop rows with NaN values\n",
        "    # merged_df.dropna(inplace=True)\n",
        "\n",
        "    # Reset index to make 'period_end' a regular column\n",
        "    merged_df.reset_index(inplace=True)\n",
        "    merged_df.rename(columns={'index': 'period_end'}, inplace=True)\n",
        "\n",
        "    # Add a holiday flag (1 if Saturday, 0 otherwise)\n",
        "    merged_df['holiday'] = merged_df['period_end'].apply(lambda x: 1 if pd.Timestamp(x).weekday() == 5 else 0)\n",
        "\n",
        "    # Set 'period_end' back as the index\n",
        "    merged_df.set_index('period_end', inplace=True)\n",
        "\n",
        "    return merged_df\n",
        "\n",
        "```\n",
        "\n"
      ],
      "metadata": {
        "id": "7o2UBehVwwoW"
      }
    },
    {
      "cell_type": "markdown",
      "source": [
        "**Function to fetch weather data stored in csv file**"
      ],
      "metadata": {
        "id": "xubzcjrdglWZ"
      }
    },
    {
      "cell_type": "code",
      "execution_count": 39,
      "metadata": {
        "id": "IyI_u93qqZOg"
      },
      "outputs": [],
      "source": [
        "\n",
        "\n",
        "def fetch_weather_data():\n",
        "    \"\"\"\n",
        "    Fetches weather data, converts 'period_end' column from UTC to Nepali time (Asia/Kathmandu),\n",
        "    and renames it to 'timestamp'.\n",
        "\n",
        "    Returns:\n",
        "    - pd.DataFrame: Processed DataFrame with the converted timestamp column.\n",
        "    \"\"\"\n",
        "    # URL for the dataset\n",
        "    url = \"https://drive.google.com/uc?export=download&id=1mezuQQr_XKMYOT_X46UoUgbtDmoV_qPj\"\n",
        "\n",
        "    # Load the CSV into a DataFrame\n",
        "    weather_df = pd.read_csv(url)\n",
        "\n",
        "    # Drop unnecessary columns\n",
        "    weather_df.drop(labels=[\"period\", \"dni\", \"ghi\"], axis=1, inplace=True)\n",
        "\n",
        "    # Convert 'period_end' to UTC datetime\n",
        "    weather_df[\"period_end\"] = pd.to_datetime(weather_df[\"period_end\"], utc=True)\n",
        "\n",
        "    # Convert to Nepali time zone (Asia/Kathmandu)\n",
        "    weather_df[\"period_end\"] = weather_df[\"period_end\"].dt.tz_convert(\"Asia/Kathmandu\")\n",
        "\n",
        "    # Remove timezone information (optional)\n",
        "    weather_df[\"period_end\"] = weather_df[\"period_end\"].dt.tz_localize(None)\n",
        "\n",
        "    # Rename the column to 'timestamp'\n",
        "    weather_df.rename(columns={\"period_end\": \"timestamp\"}, inplace=True)\n",
        "\n",
        "    return weather_df"
      ]
    },
    {
      "cell_type": "code",
      "execution_count": 40,
      "metadata": {
        "id": "JkNic6UUqf36"
      },
      "outputs": [],
      "source": [
        "def add_temperature(df, weather_df):\n",
        "\n",
        "    weather_df = weather_df.rename(columns={\"period_end\": \"timestamp\"})\n",
        "\n",
        "    # Set 'period_end' as the index\n",
        "    weather_df.set_index(\"timestamp\", inplace=True)\n",
        "\n",
        "    # Ensure 'timestamp' (or equivalent) in df is also datetime\n",
        "    df.index = pd.to_datetime(df.index)\n",
        "\n",
        "    # Resample weather_df to 15-minute intervals\n",
        "    weather_df = weather_df.resample('15T').mean().round(2)\n",
        "\n",
        "    # Outer join to align both DataFrames\n",
        "    merged_df = df.join(weather_df, how='outer')\n",
        "\n",
        "    # Drop rows with NaN values\n",
        "    # merged_df.dropna(inplace=True)\n",
        "\n",
        "    # Reset index to make 'period_end' a regular column\n",
        "    merged_df.reset_index(inplace=True)\n",
        "    merged_df.rename(columns={'index': 'timestamp'}, inplace=True)\n",
        "\n",
        "    # Add a holiday flag (1 if Saturday, 0 otherwise)\n",
        "    merged_df['holiday'] = merged_df['timestamp'].apply(lambda x: 1 if pd.Timestamp(x).weekday() == 5 else 0)\n",
        "\n",
        "    # Set 'period_end' back as the index\n",
        "    merged_df.set_index('timestamp', inplace=True)\n",
        "\n",
        "    return merged_df\n"
      ]
    },
    {
      "cell_type": "code",
      "source": [
        "def add(df,weather_df):\n",
        "\n",
        "  #print(df.head())\n",
        "  #print(weather_df.head())\n",
        "  df.reset_index(inplace=True)\n",
        "  print(df.head())\n",
        "\n",
        "  weather_df.set_index(\"timestamp\",inplace=True)\n",
        "  #print(weather_df.head())\n",
        "\n",
        "  weather_df = weather_df.resample(\"15min\").mean()\n",
        "  #print(weather_df.head())\n",
        "\n",
        "  weather_df.reset_index(inplace=True)\n",
        "  print(weather_df.head())\n",
        "\n",
        "  merged_df = df.merge(weather_df,how = 'outer',on = 'timestamp')\n",
        "  merged_df['holiday'] = merged_df['timestamp'].apply(lambda x: 1 if pd.Timestamp(x).weekday() == 5 else 0)\n",
        "\n",
        "  merged_df = merged_df[(merged_df['timestamp'] >= '2024-01-01') & (merged_df['timestamp'] < '2025-01-01')]\n",
        "  merged_df.set_index(\"timestamp\",inplace=True)\n",
        "  print(merged_df.head())\n",
        "  print(merged_df.tail())\n",
        "  return(merged_df)\n",
        "\n"
      ],
      "metadata": {
        "id": "LxURS6IRndDa"
      },
      "execution_count": 41,
      "outputs": []
    },
    {
      "cell_type": "markdown",
      "metadata": {
        "id": "2kikyqaOizZJ"
      },
      "source": [
        "**Main Body**"
      ]
    },
    {
      "cell_type": "code",
      "execution_count": 42,
      "metadata": {
        "colab": {
          "base_uri": "https://localhost:8080/"
        },
        "id": "tslina0mvs_q",
        "outputId": "d85a85ec-e923-41a0-f7c3-6edcaf40c02a"
      },
      "outputs": [
        {
          "output_type": "stream",
          "name": "stdout",
          "text": [
            "   air_temp           timestamp\n",
            "0         8 2024-01-01 00:00:00\n",
            "1         8 2024-01-01 00:05:00\n",
            "2         8 2024-01-01 00:10:00\n",
            "3         8 2024-01-01 00:15:00\n",
            "4         8 2024-01-01 00:20:00\n"
          ]
        },
        {
          "output_type": "stream",
          "name": "stderr",
          "text": [
            "<ipython-input-32-be668fd1b39e>:4: DtypeWarning: Columns (6) have mixed types. Specify dtype option on import or set low_memory=False.\n",
            "  df = pd.read_csv(Url,skiprows =1)\n"
          ]
        },
        {
          "output_type": "stream",
          "name": "stdout",
          "text": [
            "dtype of Grid Consumption(kWh)is:\n",
            "Meter                     object\n",
            "Grid Consumption(kWh)    float64\n",
            "dtype: object\n",
            "            timestamp  Load_consumed (kWh)\n",
            "0 2024-01-07 12:00:26                 5.94\n",
            "1 2024-01-07 12:05:19                 5.95\n",
            "2 2024-01-07 12:11:36                 5.95\n",
            "3 2024-01-07 12:16:39                 5.96\n",
            "4 2024-01-07 12:20:33                 5.99\n",
            "            timestamp  Load_consumed (kWh)\n",
            "0 2024-01-01 00:15:00                  0.0\n",
            "1 2024-01-01 00:30:00                  0.0\n",
            "2 2024-01-01 00:45:00                  0.0\n",
            "3 2024-01-01 01:00:00                  0.0\n",
            "4 2024-01-01 01:15:00                  0.0\n",
            "            timestamp  air_temp\n",
            "0 2024-01-01 00:00:00       8.0\n",
            "1 2024-01-01 00:15:00       8.0\n",
            "2 2024-01-01 00:30:00       8.0\n",
            "3 2024-01-01 00:45:00       8.0\n",
            "4 2024-01-01 01:00:00       8.0\n",
            "                     Load_consumed (kWh)  air_temp  holiday\n",
            "timestamp                                                  \n",
            "2024-01-01 00:00:00                  NaN       8.0        0\n",
            "2024-01-01 00:15:00                  0.0       8.0        0\n",
            "2024-01-01 00:30:00                  0.0       8.0        0\n",
            "2024-01-01 00:45:00                  0.0       8.0        0\n",
            "2024-01-01 01:00:00                  0.0       8.0        0\n",
            "                     Load_consumed (kWh)  air_temp  holiday\n",
            "timestamp                                                  \n",
            "2024-12-31 22:45:00                  NaN       9.0        0\n",
            "2024-12-31 23:00:00                  NaN       9.0        0\n",
            "2024-12-31 23:15:00                  NaN       9.0        0\n",
            "2024-12-31 23:30:00                  NaN       9.0        0\n",
            "2024-12-31 23:45:00                  NaN       9.0        0\n",
            "dtype of Grid Consumption(kWh)is:\n",
            "Meter                     object\n",
            "Grid Consumption(kWh)    float64\n",
            "dtype: object\n",
            "            timestamp  Load_consumed (kWh)\n",
            "0 2024-01-05 12:06:39                 0.00\n",
            "1 2024-01-10 09:37:42               220.52\n",
            "2 2024-01-10 09:40:40               220.89\n",
            "3 2024-01-10 09:45:34               221.46\n",
            "4 2024-01-10 09:50:29               222.09\n",
            "            timestamp  Load_consumed (kWh)\n",
            "0 2024-01-01 00:15:00                  0.0\n",
            "1 2024-01-01 00:30:00                  0.0\n",
            "2 2024-01-01 00:45:00                  0.0\n",
            "3 2024-01-01 01:00:00                  0.0\n",
            "4 2024-01-01 01:15:00                  0.0\n",
            "            timestamp  air_temp\n",
            "0 2024-01-01 00:00:00       8.0\n",
            "1 2024-01-01 00:15:00       8.0\n",
            "2 2024-01-01 00:30:00       8.0\n",
            "3 2024-01-01 00:45:00       8.0\n",
            "4 2024-01-01 01:00:00       8.0\n",
            "                     Load_consumed (kWh)  air_temp  holiday\n",
            "timestamp                                                  \n",
            "2024-01-01 00:00:00                  NaN       8.0        0\n",
            "2024-01-01 00:15:00                  0.0       8.0        0\n",
            "2024-01-01 00:30:00                  0.0       8.0        0\n",
            "2024-01-01 00:45:00                  0.0       8.0        0\n",
            "2024-01-01 01:00:00                  0.0       8.0        0\n",
            "                     Load_consumed (kWh)  air_temp  holiday\n",
            "timestamp                                                  \n",
            "2024-12-31 22:45:00                  NaN       9.0        0\n",
            "2024-12-31 23:00:00                  NaN       9.0        0\n",
            "2024-12-31 23:15:00                  NaN       9.0        0\n",
            "2024-12-31 23:30:00                  NaN       9.0        0\n",
            "2024-12-31 23:45:00                  NaN       9.0        0\n",
            "dtype of Grid Consumption(kWh)is:\n",
            "Meter                     object\n",
            "Grid Consumption(kWh)    float64\n",
            "dtype: object\n",
            "            timestamp  Load_consumed (kWh)\n",
            "0 2024-07-24 11:39:11                12.11\n",
            "1 2024-07-24 11:40:10                12.14\n",
            "2 2024-07-24 11:45:35                12.26\n",
            "3 2024-07-24 11:50:27                12.38\n",
            "4 2024-07-24 11:55:24                12.48\n",
            "            timestamp  Load_consumed (kWh)\n",
            "0 2024-01-01 00:15:00                  0.0\n",
            "1 2024-01-01 00:30:00                  0.0\n",
            "2 2024-01-01 00:45:00                  0.0\n",
            "3 2024-01-01 01:00:00                  0.0\n",
            "4 2024-01-01 01:15:00                  0.0\n",
            "            timestamp  air_temp\n",
            "0 2024-01-01 00:00:00       8.0\n",
            "1 2024-01-01 00:15:00       8.0\n",
            "2 2024-01-01 00:30:00       8.0\n",
            "3 2024-01-01 00:45:00       8.0\n",
            "4 2024-01-01 01:00:00       8.0\n",
            "                     Load_consumed (kWh)  air_temp  holiday\n",
            "timestamp                                                  \n",
            "2024-01-01 00:00:00                  NaN       8.0        0\n",
            "2024-01-01 00:15:00                  0.0       8.0        0\n",
            "2024-01-01 00:30:00                  0.0       8.0        0\n",
            "2024-01-01 00:45:00                  0.0       8.0        0\n",
            "2024-01-01 01:00:00                  0.0       8.0        0\n",
            "                     Load_consumed (kWh)  air_temp  holiday\n",
            "timestamp                                                  \n",
            "2024-12-31 22:45:00                  NaN       9.0        0\n",
            "2024-12-31 23:00:00                  NaN       9.0        0\n",
            "2024-12-31 23:15:00                  NaN       9.0        0\n",
            "2024-12-31 23:30:00                  NaN       9.0        0\n",
            "2024-12-31 23:45:00                  NaN       9.0        0\n"
          ]
        },
        {
          "output_type": "stream",
          "name": "stderr",
          "text": [
            "<ipython-input-32-be668fd1b39e>:4: DtypeWarning: Columns (6) have mixed types. Specify dtype option on import or set low_memory=False.\n",
            "  df = pd.read_csv(Url,skiprows =1)\n"
          ]
        },
        {
          "output_type": "stream",
          "name": "stdout",
          "text": [
            "dtype of Grid Consumption(kWh)is:\n",
            "Meter                     object\n",
            "Grid Consumption(kWh)    float64\n",
            "dtype: object\n",
            "            timestamp  Load_consumed (kWh)\n",
            "0 2024-01-12 00:00:02                20.67\n",
            "1 2024-01-12 00:05:53                20.69\n",
            "2 2024-01-12 00:10:46                20.70\n",
            "3 2024-01-12 00:15:39                20.72\n",
            "4 2024-01-12 00:20:32                20.73\n",
            "            timestamp  Load_consumed (kWh)\n",
            "0 2024-01-01 00:15:00                  0.0\n",
            "1 2024-01-01 00:30:00                  0.0\n",
            "2 2024-01-01 00:45:00                  0.0\n",
            "3 2024-01-01 01:00:00                  0.0\n",
            "4 2024-01-01 01:15:00                  0.0\n",
            "            timestamp  air_temp\n",
            "0 2024-01-01 00:00:00       8.0\n",
            "1 2024-01-01 00:15:00       8.0\n",
            "2 2024-01-01 00:30:00       8.0\n",
            "3 2024-01-01 00:45:00       8.0\n",
            "4 2024-01-01 01:00:00       8.0\n",
            "                     Load_consumed (kWh)  air_temp  holiday\n",
            "timestamp                                                  \n",
            "2024-01-01 00:00:00                  NaN       8.0        0\n",
            "2024-01-01 00:15:00                  0.0       8.0        0\n",
            "2024-01-01 00:30:00                  0.0       8.0        0\n",
            "2024-01-01 00:45:00                  0.0       8.0        0\n",
            "2024-01-01 01:00:00                  0.0       8.0        0\n",
            "                     Load_consumed (kWh)  air_temp  holiday\n",
            "timestamp                                                  \n",
            "2024-12-31 22:45:00                  NaN       9.0        0\n",
            "2024-12-31 23:00:00                  NaN       9.0        0\n",
            "2024-12-31 23:15:00                  NaN       9.0        0\n",
            "2024-12-31 23:30:00                  NaN       9.0        0\n",
            "2024-12-31 23:45:00                  NaN       9.0        0\n",
            "dtype of Grid Consumption(kWh)is:\n",
            "Meter                     object\n",
            "Grid Consumption(kWh)    float64\n",
            "dtype: object\n",
            "            timestamp  Load_consumed (kWh)\n",
            "0 2024-09-26 12:18:49                31.66\n",
            "1 2024-09-26 12:20:46                31.69\n",
            "2 2024-09-26 12:25:40                31.77\n",
            "3 2024-09-26 12:30:33                31.84\n",
            "4 2024-09-26 12:35:25                31.91\n",
            "            timestamp  Load_consumed (kWh)\n",
            "0 2024-01-01 00:15:00                  0.0\n",
            "1 2024-01-01 00:30:00                  0.0\n",
            "2 2024-01-01 00:45:00                  0.0\n",
            "3 2024-01-01 01:00:00                  0.0\n",
            "4 2024-01-01 01:15:00                  0.0\n",
            "            timestamp  air_temp\n",
            "0 2024-01-01 00:00:00       8.0\n",
            "1 2024-01-01 00:15:00       8.0\n",
            "2 2024-01-01 00:30:00       8.0\n",
            "3 2024-01-01 00:45:00       8.0\n",
            "4 2024-01-01 01:00:00       8.0\n",
            "                     Load_consumed (kWh)  air_temp  holiday\n",
            "timestamp                                                  \n",
            "2024-01-01 00:00:00                  NaN       8.0        0\n",
            "2024-01-01 00:15:00                  0.0       8.0        0\n",
            "2024-01-01 00:30:00                  0.0       8.0        0\n",
            "2024-01-01 00:45:00                  0.0       8.0        0\n",
            "2024-01-01 01:00:00                  0.0       8.0        0\n",
            "                     Load_consumed (kWh)  air_temp  holiday\n",
            "timestamp                                                  \n",
            "2024-12-31 22:45:00                  NaN       9.0        0\n",
            "2024-12-31 23:00:00                  NaN       9.0        0\n",
            "2024-12-31 23:15:00                  NaN       9.0        0\n",
            "2024-12-31 23:30:00                  NaN       9.0        0\n",
            "2024-12-31 23:45:00                  NaN       9.0        0\n",
            "dtype of Grid Consumption(kWh)is:\n",
            "Meter                     object\n",
            "Grid Consumption(kWh)    float64\n",
            "dtype: object\n",
            "            timestamp  Load_consumed (kWh)\n",
            "0 2024-01-04 15:50:06                 0.34\n",
            "1 2024-01-04 15:55:57                 0.43\n",
            "2 2024-01-04 16:00:50                 0.52\n",
            "3 2024-01-04 16:05:45                 0.62\n",
            "4 2024-01-04 16:10:36                 0.70\n",
            "            timestamp  Load_consumed (kWh)\n",
            "0 2024-01-01 00:15:00                  0.0\n",
            "1 2024-01-01 00:30:00                  0.0\n",
            "2 2024-01-01 00:45:00                  0.0\n",
            "3 2024-01-01 01:00:00                  0.0\n",
            "4 2024-01-01 01:15:00                  0.0\n",
            "            timestamp  air_temp\n",
            "0 2024-01-01 00:00:00       8.0\n",
            "1 2024-01-01 00:15:00       8.0\n",
            "2 2024-01-01 00:30:00       8.0\n",
            "3 2024-01-01 00:45:00       8.0\n",
            "4 2024-01-01 01:00:00       8.0\n",
            "                     Load_consumed (kWh)  air_temp  holiday\n",
            "timestamp                                                  \n",
            "2024-01-01 00:00:00                  NaN       8.0        0\n",
            "2024-01-01 00:15:00                  0.0       8.0        0\n",
            "2024-01-01 00:30:00                  0.0       8.0        0\n",
            "2024-01-01 00:45:00                  0.0       8.0        0\n",
            "2024-01-01 01:00:00                  0.0       8.0        0\n",
            "                     Load_consumed (kWh)  air_temp  holiday\n",
            "timestamp                                                  \n",
            "2024-12-31 22:45:00                  NaN       9.0        0\n",
            "2024-12-31 23:00:00                  NaN       9.0        0\n",
            "2024-12-31 23:15:00                  NaN       9.0        0\n",
            "2024-12-31 23:30:00                  NaN       9.0        0\n",
            "2024-12-31 23:45:00                  NaN       9.0        0\n",
            "dtype of Grid Consumption(kWh)is:\n",
            "Meter                     object\n",
            "Grid Consumption(kWh)    float64\n",
            "dtype: object\n",
            "            timestamp  Load_consumed (kWh)\n",
            "0 2024-08-01 14:34:24                43.37\n",
            "1 2024-08-01 14:35:22                45.18\n",
            "2 2024-08-01 14:40:17                54.44\n",
            "3 2024-08-01 14:45:08                63.60\n",
            "4 2024-08-01 14:50:01                73.09\n",
            "            timestamp  Load_consumed (kWh)\n",
            "0 2024-01-01 00:15:00                  0.0\n",
            "1 2024-01-01 00:30:00                  0.0\n",
            "2 2024-01-01 00:45:00                  0.0\n",
            "3 2024-01-01 01:00:00                  0.0\n",
            "4 2024-01-01 01:15:00                  0.0\n",
            "            timestamp  air_temp\n",
            "0 2024-01-01 00:00:00       8.0\n",
            "1 2024-01-01 00:15:00       8.0\n",
            "2 2024-01-01 00:30:00       8.0\n",
            "3 2024-01-01 00:45:00       8.0\n",
            "4 2024-01-01 01:00:00       8.0\n",
            "                     Load_consumed (kWh)  air_temp  holiday\n",
            "timestamp                                                  \n",
            "2024-01-01 00:00:00                  NaN       8.0        0\n",
            "2024-01-01 00:15:00                  0.0       8.0        0\n",
            "2024-01-01 00:30:00                  0.0       8.0        0\n",
            "2024-01-01 00:45:00                  0.0       8.0        0\n",
            "2024-01-01 01:00:00                  0.0       8.0        0\n",
            "                     Load_consumed (kWh)  air_temp  holiday\n",
            "timestamp                                                  \n",
            "2024-12-31 22:45:00                  NaN       9.0        0\n",
            "2024-12-31 23:00:00                  NaN       9.0        0\n",
            "2024-12-31 23:15:00                  NaN       9.0        0\n",
            "2024-12-31 23:30:00                  NaN       9.0        0\n",
            "2024-12-31 23:45:00                  NaN       9.0        0\n"
          ]
        }
      ],
      "source": [
        "#Uncomment for using all  consumer id from dictonary defined above\n",
        "consumer_id = tuple(consumer.keys())\n",
        "#Create a df for a single consumer only\n",
        "#consumer_id = [\"physics\"] #\n",
        "#print(consumer_id)\n",
        "weather_df = fetch_weather_data()\n",
        "temp_df = weather_df\n",
        "print(weather_df.head())\n",
        "for id in consumer_id:\n",
        "    df = read_raw_csv(id)\n",
        "    if df is not None:\n",
        "        #print(f\"first 5 rows of consumer {id} is: \\n\")\n",
        "        #print(df.head())\n",
        "        #print(df.dtypes)\n",
        "        #print(df['Grid Consumption(kWh)'].unique())\n",
        "        #sending data frame for pre-Processing\n",
        "        df = data_preprocessing(df);\n",
        "        #print(df.index)\n",
        "        #print(df.head)\n",
        "\n",
        "\n",
        "        #df = add_temperature(df,weather_df)\n",
        "        df = add(df,weather_df)\n",
        "\n",
        "        #print(df.head())\n",
        "        df.to_csv(\"/content/drive/MyDrive/preprocessed_data/\" + f\"{id}_preprocessed.csv\",float_format='%.2f');\n",
        "\n",
        "        #call weather_df\n",
        "\n",
        "\n",
        "        #print(f\"first 5 rows of consumer {id} after pre-processing is: \\n\")\n",
        "        #print(df.head())\n",
        "        #print(df.dtypes)\n",
        "        #print(\"After Processing\")\n",
        "\n",
        "    else:\n",
        "        print(f\"No data found for consumer {id}\")\n",
        "    weather_df = temp_df\n",
        "    weather_df = weather_df.reset_index()"
      ]
    },
    {
      "cell_type": "code",
      "source": [],
      "metadata": {
        "id": "_N844u_i-Ki2"
      },
      "execution_count": 42,
      "outputs": []
    }
  ],
  "metadata": {
    "colab": {
      "provenance": [],
      "mount_file_id": "1w8PLtvFbOPIQzxZ71zIbh_HzkwiW_D61",
      "authorship_tag": "ABX9TyMWJ9KemnVpimOA7RmhX8Fq",
      "include_colab_link": true
    },
    "kernelspec": {
      "display_name": "Python 3",
      "name": "python3"
    },
    "language_info": {
      "name": "python"
    }
  },
  "nbformat": 4,
  "nbformat_minor": 0
}